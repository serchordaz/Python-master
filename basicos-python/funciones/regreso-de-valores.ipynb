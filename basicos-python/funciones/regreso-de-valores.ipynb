{
 "cells": [
  {
   "cell_type": "code",
   "execution_count": null,
   "metadata": {},
   "outputs": [],
   "source": [
    "# Función de una sucesión geométrica \n",
    "def sumGeometric(a, r, n): \n",
    "   # Si el radio tiene un valor de uno \n",
    "   if r == 1: \n",
    "      return a * n \n",
    "   # Calcula la suma geométrica cuando el radio es diferente de uno \n",
    "   s = a * (1 - r ** n) / (1 - r) \n",
    "   #regresa el valor de s \n",
    "   return s"
   ]
  }
 ],
 "metadata": {
  "kernelspec": {
   "display_name": "Python 3.10.7 64-bit",
   "language": "python",
   "name": "python3"
  },
  "language_info": {
   "name": "python",
   "version": "3.10.7"
  },
  "orig_nbformat": 4,
  "vscode": {
   "interpreter": {
    "hash": "369f2c481f4da34e4445cda3fffd2e751bd1c4d706f27375911949ba6bb62e1c"
   }
  }
 },
 "nbformat": 4,
 "nbformat_minor": 2
}
