{
 "cells": [
  {
   "cell_type": "code",
   "execution_count": null,
   "metadata": {},
   "outputs": [],
   "source": [
    "# La función se llama “dibujo”, dibuja un rectángulo y las variables (parámetros) que solicita son el ancho y el alto de la figura \n",
    "def dibujo(width, height): \n",
    "   # se utiliza una estructura de control. \n",
    "   if width < 10 or height < 10: \n",
    "      print(\"Error: La figura es muy pequeña o muy grande.\") \n",
    "      quit() \n",
    "   # Dibuja la parte superior de la figura \n",
    "   print(\"*\" * width) \n",
    "   # Dibuja los lados, en este caso se utiliza un bucle para el valor del alto de la figura \n",
    "   for i in range(height - 2): \n",
    "      print(\"*\" + \" \" * (width - 2) + \"*\") \n",
    "   # Dibuja la parte inferior \n",
    "   print(\"*\" * width)"
   ]
  }
 ],
 "metadata": {
  "kernelspec": {
   "display_name": "Python 3.10.7 64-bit",
   "language": "python",
   "name": "python3"
  },
  "language_info": {
   "name": "python",
   "version": "3.10.7"
  },
  "orig_nbformat": 4,
  "vscode": {
   "interpreter": {
    "hash": "369f2c481f4da34e4445cda3fffd2e751bd1c4d706f27375911949ba6bb62e1c"
   }
  }
 },
 "nbformat": 4,
 "nbformat_minor": 2
}
