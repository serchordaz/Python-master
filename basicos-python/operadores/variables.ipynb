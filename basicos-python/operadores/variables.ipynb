{
 "cells": [
  {
   "cell_type": "code",
   "execution_count": 2,
   "metadata": {},
   "outputs": [
    {
     "name": "stdout",
     "output_type": "stream",
     "text": [
      "El valor de x es: 5\n",
      "El valor de y es: 26\n",
      "Tu color favorito es  verde , tienes 29  años y pesas  67.0  kg\n"
     ]
    }
   ],
   "source": [
    "x = 5 #variable numérica\n",
    "y = 1 + x*5 #variable operacional\n",
    "z = (\"hola a todos\") #variable cadena\n",
    "w = input (\"ingresa tu color favorito: \") \n",
    "edad = int (input (\"ingresa tu edad: \")) \n",
    "peso = float (input (\"¿cuánto pesas? \"))  \n",
    "\n",
    "#imprime los datos \n",
    "print(\"El valor de x es:\", x) \n",
    "print(\"El valor de y es:\", y) \n",
    "print(\"Tu color favorito es \",w, \", tienes\",edad, \" años y pesas \",peso,\" kg\") "
   ]
  }
 ],
 "metadata": {
  "kernelspec": {
   "display_name": "Python 3.10.7 64-bit",
   "language": "python",
   "name": "python3"
  },
  "language_info": {
   "codemirror_mode": {
    "name": "ipython",
    "version": 3
   },
   "file_extension": ".py",
   "mimetype": "text/x-python",
   "name": "python",
   "nbconvert_exporter": "python",
   "pygments_lexer": "ipython3",
   "version": "3.10.7"
  },
  "orig_nbformat": 4,
  "vscode": {
   "interpreter": {
    "hash": "369f2c481f4da34e4445cda3fffd2e751bd1c4d706f27375911949ba6bb62e1c"
   }
  }
 },
 "nbformat": 4,
 "nbformat_minor": 2
}
