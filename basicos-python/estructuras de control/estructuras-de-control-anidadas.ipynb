{
 "cells": [
  {
   "cell_type": "code",
   "execution_count": 1,
   "metadata": {},
   "outputs": [
    {
     "name": "stdout",
     "output_type": "stream",
     "text": [
      "Es realmente un número muy grande y positivo\n"
     ]
    }
   ],
   "source": [
    "# Solicita un número \n",
    "num = float(input(\"Ingresa un número: \")) \n",
    "# condición uno \n",
    "if num > 0: \n",
    "    adjective = \" \" \n",
    "    if num >= 1000000: \n",
    "        adjective = \" muy grande \" \n",
    "    elif num >= 1000: \n",
    "        adjective = \" grande \" \n",
    "    # El resultado es una cadena con el adjetivo y el tipo de número \n",
    "    result = \"Es realmente un número\" + adjective + \"y positivo\" \n",
    "elif num < 0: \n",
    "    result = \"Es un número negativo\" \n",
    "else: \n",
    "    result = \"Este número es cero\" \n",
    "# Imprime el resultado \n",
    "print(result) "
   ]
  }
 ],
 "metadata": {
  "kernelspec": {
   "display_name": "Python 3.10.7 64-bit",
   "language": "python",
   "name": "python3"
  },
  "language_info": {
   "codemirror_mode": {
    "name": "ipython",
    "version": 3
   },
   "file_extension": ".py",
   "mimetype": "text/x-python",
   "name": "python",
   "nbconvert_exporter": "python",
   "pygments_lexer": "ipython3",
   "version": "3.10.7"
  },
  "orig_nbformat": 4,
  "vscode": {
   "interpreter": {
    "hash": "369f2c481f4da34e4445cda3fffd2e751bd1c4d706f27375911949ba6bb62e1c"
   }
  }
 },
 "nbformat": 4,
 "nbformat_minor": 2
}
